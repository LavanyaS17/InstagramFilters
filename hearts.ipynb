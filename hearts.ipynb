{
 "cells": [
  {
   "cell_type": "code",
   "execution_count": null,
   "metadata": {},
   "outputs": [],
   "source": [
    "import dlib\n",
    "import numpy as np\n",
    "import cv2\n",
    "from math import hypot\n",
    "\n",
    "cap = cv2.VideoCapture(0)\n",
    "headImage = cv2.imread(\"heart.png\")\n",
    "\n",
    "detector = dlib.get_frontal_face_detector()\n",
    "predictor = dlib.shape_predictor(\"shape_predictor_68_face_landmarks.dat\") #google for this file and download it from github.\n",
    "\n",
    "while True:\n",
    "    _, frame = cap.read()\n",
    "    gray = cv2.cvtColor(frame, cv2.COLOR_BGR2GRAY)\n",
    "    \n",
    "    faces = detector(gray)\n",
    "    \n",
    "    for face in faces: \n",
    "        landmarks = predictor(gray, face)\n",
    "        #cv2.circle(frame, tophead, 5, (0,0,255), -1)\n",
    "        lefthead = (landmarks.part(19).x,landmarks.part(19).y)\n",
    "        righthead = (landmarks.part(24).x,landmarks.part(24).y)\n",
    "        centerhead = (landmarks.part(27).x,landmarks.part(27).y)\n",
    "        headWidth = int(hypot(lefthead[0] - righthead[0],\n",
    "                          lefthead[1] - righthead[1]) *2.5)\n",
    "        headHeight = headWidth \n",
    "        \n",
    "        topLeft = (int(centerhead[0]-headWidth/2),int(centerhead[1]-(headHeight)))\n",
    "        #bottomRight = (int(centerhead[0]+headWidth/2),int(centerhead[1]+headHeight/2))\n",
    "        \n",
    "        heartImage = cv2.resize(headImage, (headWidth,headHeight))\n",
    "        heartImageGray = cv2.cvtColor(heartImage, cv2.COLOR_BGR2GRAY)\n",
    "        _, headMask = cv2.threshold(heartImageGray, 25, 255, cv2.THRESH_BINARY_INV)\n",
    "        \n",
    "        headArea = frame[topLeft[1] :  topLeft[1]+headHeight,\n",
    "                         topLeft[0] :  topLeft[0]+ headWidth]  \n",
    "        headAreaNohead = cv2.bitwise_and(headArea,headArea, mask = headMask)\n",
    "        finalhead = cv2.add(headAreaNohead,heartImage)\n",
    "        \n",
    "        frame[topLeft[1] : topLeft[1] + headHeight,\n",
    "                         topLeft[0] : topLeft[0] + headWidth]  = finalhead\n",
    "        \n",
    "        cv2.imshow(\"head area\", headArea)\n",
    "        cv2.imshow(\"heart head\",heartImage)\n",
    "        cv2.imshow(\"final head\",finalhead)             \n",
    "        \n",
    "        \n",
    "    cv2.imshow(\"frame\", frame)\n",
    "        \n",
    "    key = cv2.waitKey(1)\n",
    "    if key == 27:\n",
    "        cap.release()\n",
    "        cv2.destroyAllWindows()\n",
    "        break\n",
    "        "
   ]
  },
  {
   "cell_type": "code",
   "execution_count": null,
   "metadata": {},
   "outputs": [],
   "source": []
  }
 ],
 "metadata": {
  "kernelspec": {
   "display_name": "Python 3",
   "language": "python",
   "name": "python3"
  },
  "language_info": {
   "codemirror_mode": {
    "name": "ipython",
    "version": 3
   },
   "file_extension": ".py",
   "mimetype": "text/x-python",
   "name": "python",
   "nbconvert_exporter": "python",
   "pygments_lexer": "ipython3",
   "version": "3.7.7"
  }
 },
 "nbformat": 4,
 "nbformat_minor": 4
}
